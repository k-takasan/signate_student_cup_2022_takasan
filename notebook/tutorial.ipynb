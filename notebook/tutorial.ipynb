{
  "cells": [
    {
      "cell_type": "markdown",
      "metadata": {
        "id": "cqtnNx7_WBTF"
      },
      "source": [
        "#### 概要"
      ]
    },
    {
      "cell_type": "markdown",
      "metadata": {
        "id": "h4OfVDcYWBTL"
      },
      "source": [
        "予測部門では, 英語圏の求人情報に含まれるテキストデータ（職務内容に関する記述）をもとに, 職種を予測するアルゴリズムを作成していただきます.\n",
        "今回用いる評価尺度はF1Score(マクロ平均)です. F1ScoreとはPrecisionとRecallの調和平均であり, 全クラスのF1Scoreの平均を取ることでF1Score(マクロ平均)が算出されます.\n",
        "テストデータに対するF1Score(マクロ平均)をなるべく大きくするモデルを作ることが今回の目的です.\n",
        "このチュートリアルでは古典的な自然言語処理の手法であるBag of Wordsを用いて特徴量を作成し, 勾配ブースティング決定木のアルゴリズムの1つであるXGBoostを用いてモデリングを行なっています.\n",
        "これをきっかけに, 今まで自然言語処理に馴染みのなかった方も是非モデリングに取り組んでみてください."
      ]
    },
    {
      "cell_type": "markdown",
      "metadata": {
        "id": "wUtqFUi2WBTM"
      },
      "source": [
        "### データの読み込みとEDA"
      ]
    },
    {
      "cell_type": "markdown",
      "metadata": {
        "id": "veKsbDbDWBTN"
      },
      "source": [
        "まずはデータの読込や可視化に必要なライブラリをインポートします"
      ]
    },
    {
      "cell_type": "code",
      "execution_count": null,
      "metadata": {
        "id": "GyzOcn0hWBTN"
      },
      "outputs": [],
      "source": [
        "import pandas as pd\n",
        "import matplotlib.pyplot as plt\n",
        "import seaborn as sns"
      ]
    },
    {
      "cell_type": "markdown",
      "metadata": {
        "id": "zQbI0DEIWBTO"
      },
      "source": [
        "学習用データ(train.csv)と評価用データ(test.csv)を読み込み, 中身を確認してみます"
      ]
    },
    {
      "cell_type": "code",
      "source": [
        "from google.colab import drive\n",
        "drive.mount('/content/drive')"
      ],
      "metadata": {
        "colab": {
          "base_uri": "https://localhost:8080/"
        },
        "id": "CfI6oQn1WDzS",
        "outputId": "3da80a55-4f09-4d25-adce-2574498dd0d1"
      },
      "execution_count": null,
      "outputs": [
        {
          "output_type": "stream",
          "name": "stdout",
          "text": [
            "Mounted at /content/drive\n"
          ]
        }
      ]
    },
    {
      "cell_type": "code",
      "execution_count": null,
      "metadata": {
        "id": "jEFAYCpQWBTP"
      },
      "outputs": [],
      "source": [
        "#学習用データと評価用データの読み込み\n",
        "train = pd.read_csv(\"/content/drive/MyDrive/Competition/SIGNATE/Datascientist/data/train.csv\")\n",
        "test = pd.read_csv(\"/content/drive/MyDrive/Competition/SIGNATE/Datascientist/data/test.csv\")"
      ]
    },
    {
      "cell_type": "code",
      "execution_count": null,
      "metadata": {
        "colab": {
          "base_uri": "https://localhost:8080/"
        },
        "id": "eIURp67uWBTP",
        "outputId": "da2bea25-f796-4e4e-cdf5-949153e8294d"
      },
      "outputs": [
        {
          "output_type": "stream",
          "name": "stdout",
          "text": [
            "(1516, 3)\n",
            "(1517, 2)\n"
          ]
        }
      ],
      "source": [
        "#データのサイズ確認\n",
        "print(train.shape)\n",
        "print(test.shape)"
      ]
    },
    {
      "cell_type": "code",
      "execution_count": null,
      "metadata": {
        "colab": {
          "base_uri": "https://localhost:8080/",
          "height": 206
        },
        "id": "Z0LjW6uxWBTQ",
        "outputId": "d5a50e6b-3664-43fb-9b12-e571544a70ad"
      },
      "outputs": [
        {
          "output_type": "execute_result",
          "data": {
            "text/plain": [
              "   id                                        description  jobflag\n",
              "0   0  <li>Develop cutting-edge web applications that...        3\n",
              "1   1  <li> Designs and develops high quality, scalab...        3\n",
              "2   2  <li>Functions as a point person for Network St...        4\n",
              "3   3  <li> Work on the technical design, development...        3\n",
              "4   4  <li>Quantify the resources required for a task...        4"
            ],
            "text/html": [
              "\n",
              "  <div id=\"df-69873280-17d6-4f05-b702-5160d27f8f97\">\n",
              "    <div class=\"colab-df-container\">\n",
              "      <div>\n",
              "<style scoped>\n",
              "    .dataframe tbody tr th:only-of-type {\n",
              "        vertical-align: middle;\n",
              "    }\n",
              "\n",
              "    .dataframe tbody tr th {\n",
              "        vertical-align: top;\n",
              "    }\n",
              "\n",
              "    .dataframe thead th {\n",
              "        text-align: right;\n",
              "    }\n",
              "</style>\n",
              "<table border=\"1\" class=\"dataframe\">\n",
              "  <thead>\n",
              "    <tr style=\"text-align: right;\">\n",
              "      <th></th>\n",
              "      <th>id</th>\n",
              "      <th>description</th>\n",
              "      <th>jobflag</th>\n",
              "    </tr>\n",
              "  </thead>\n",
              "  <tbody>\n",
              "    <tr>\n",
              "      <th>0</th>\n",
              "      <td>0</td>\n",
              "      <td>&lt;li&gt;Develop cutting-edge web applications that...</td>\n",
              "      <td>3</td>\n",
              "    </tr>\n",
              "    <tr>\n",
              "      <th>1</th>\n",
              "      <td>1</td>\n",
              "      <td>&lt;li&gt; Designs and develops high quality, scalab...</td>\n",
              "      <td>3</td>\n",
              "    </tr>\n",
              "    <tr>\n",
              "      <th>2</th>\n",
              "      <td>2</td>\n",
              "      <td>&lt;li&gt;Functions as a point person for Network St...</td>\n",
              "      <td>4</td>\n",
              "    </tr>\n",
              "    <tr>\n",
              "      <th>3</th>\n",
              "      <td>3</td>\n",
              "      <td>&lt;li&gt; Work on the technical design, development...</td>\n",
              "      <td>3</td>\n",
              "    </tr>\n",
              "    <tr>\n",
              "      <th>4</th>\n",
              "      <td>4</td>\n",
              "      <td>&lt;li&gt;Quantify the resources required for a task...</td>\n",
              "      <td>4</td>\n",
              "    </tr>\n",
              "  </tbody>\n",
              "</table>\n",
              "</div>\n",
              "      <button class=\"colab-df-convert\" onclick=\"convertToInteractive('df-69873280-17d6-4f05-b702-5160d27f8f97')\"\n",
              "              title=\"Convert this dataframe to an interactive table.\"\n",
              "              style=\"display:none;\">\n",
              "        \n",
              "  <svg xmlns=\"http://www.w3.org/2000/svg\" height=\"24px\"viewBox=\"0 0 24 24\"\n",
              "       width=\"24px\">\n",
              "    <path d=\"M0 0h24v24H0V0z\" fill=\"none\"/>\n",
              "    <path d=\"M18.56 5.44l.94 2.06.94-2.06 2.06-.94-2.06-.94-.94-2.06-.94 2.06-2.06.94zm-11 1L8.5 8.5l.94-2.06 2.06-.94-2.06-.94L8.5 2.5l-.94 2.06-2.06.94zm10 10l.94 2.06.94-2.06 2.06-.94-2.06-.94-.94-2.06-.94 2.06-2.06.94z\"/><path d=\"M17.41 7.96l-1.37-1.37c-.4-.4-.92-.59-1.43-.59-.52 0-1.04.2-1.43.59L10.3 9.45l-7.72 7.72c-.78.78-.78 2.05 0 2.83L4 21.41c.39.39.9.59 1.41.59.51 0 1.02-.2 1.41-.59l7.78-7.78 2.81-2.81c.8-.78.8-2.07 0-2.86zM5.41 20L4 18.59l7.72-7.72 1.47 1.35L5.41 20z\"/>\n",
              "  </svg>\n",
              "      </button>\n",
              "      \n",
              "  <style>\n",
              "    .colab-df-container {\n",
              "      display:flex;\n",
              "      flex-wrap:wrap;\n",
              "      gap: 12px;\n",
              "    }\n",
              "\n",
              "    .colab-df-convert {\n",
              "      background-color: #E8F0FE;\n",
              "      border: none;\n",
              "      border-radius: 50%;\n",
              "      cursor: pointer;\n",
              "      display: none;\n",
              "      fill: #1967D2;\n",
              "      height: 32px;\n",
              "      padding: 0 0 0 0;\n",
              "      width: 32px;\n",
              "    }\n",
              "\n",
              "    .colab-df-convert:hover {\n",
              "      background-color: #E2EBFA;\n",
              "      box-shadow: 0px 1px 2px rgba(60, 64, 67, 0.3), 0px 1px 3px 1px rgba(60, 64, 67, 0.15);\n",
              "      fill: #174EA6;\n",
              "    }\n",
              "\n",
              "    [theme=dark] .colab-df-convert {\n",
              "      background-color: #3B4455;\n",
              "      fill: #D2E3FC;\n",
              "    }\n",
              "\n",
              "    [theme=dark] .colab-df-convert:hover {\n",
              "      background-color: #434B5C;\n",
              "      box-shadow: 0px 1px 3px 1px rgba(0, 0, 0, 0.15);\n",
              "      filter: drop-shadow(0px 1px 2px rgba(0, 0, 0, 0.3));\n",
              "      fill: #FFFFFF;\n",
              "    }\n",
              "  </style>\n",
              "\n",
              "      <script>\n",
              "        const buttonEl =\n",
              "          document.querySelector('#df-69873280-17d6-4f05-b702-5160d27f8f97 button.colab-df-convert');\n",
              "        buttonEl.style.display =\n",
              "          google.colab.kernel.accessAllowed ? 'block' : 'none';\n",
              "\n",
              "        async function convertToInteractive(key) {\n",
              "          const element = document.querySelector('#df-69873280-17d6-4f05-b702-5160d27f8f97');\n",
              "          const dataTable =\n",
              "            await google.colab.kernel.invokeFunction('convertToInteractive',\n",
              "                                                     [key], {});\n",
              "          if (!dataTable) return;\n",
              "\n",
              "          const docLinkHtml = 'Like what you see? Visit the ' +\n",
              "            '<a target=\"_blank\" href=https://colab.research.google.com/notebooks/data_table.ipynb>data table notebook</a>'\n",
              "            + ' to learn more about interactive tables.';\n",
              "          element.innerHTML = '';\n",
              "          dataTable['output_type'] = 'display_data';\n",
              "          await google.colab.output.renderOutput(dataTable, element);\n",
              "          const docLink = document.createElement('div');\n",
              "          docLink.innerHTML = docLinkHtml;\n",
              "          element.appendChild(docLink);\n",
              "        }\n",
              "      </script>\n",
              "    </div>\n",
              "  </div>\n",
              "  "
            ]
          },
          "metadata": {},
          "execution_count": 5
        }
      ],
      "source": [
        "#学習用データの中身を確認\n",
        "train.head()"
      ]
    },
    {
      "cell_type": "code",
      "execution_count": null,
      "metadata": {
        "colab": {
          "base_uri": "https://localhost:8080/",
          "height": 206
        },
        "id": "wtv4KsVRWBTR",
        "outputId": "73b6d153-79d0-4e7f-d204-9f9407828670"
      },
      "outputs": [
        {
          "output_type": "execute_result",
          "data": {
            "text/plain": [
              "     id                                        description\n",
              "0  1516  <li>Building decision-making models and propos...\n",
              "1  1517  <li>Educate homeowners on the benefits of sola...\n",
              "2  1518  <li><span>Design, develop, document, and imple...\n",
              "3  1519  <li>Apply advanced technical expertise and ski...\n",
              "4  1520  <li>Project manage and deliver against our roa..."
            ],
            "text/html": [
              "\n",
              "  <div id=\"df-a54c562f-d70b-42d9-b63a-6cf8fa1d5321\">\n",
              "    <div class=\"colab-df-container\">\n",
              "      <div>\n",
              "<style scoped>\n",
              "    .dataframe tbody tr th:only-of-type {\n",
              "        vertical-align: middle;\n",
              "    }\n",
              "\n",
              "    .dataframe tbody tr th {\n",
              "        vertical-align: top;\n",
              "    }\n",
              "\n",
              "    .dataframe thead th {\n",
              "        text-align: right;\n",
              "    }\n",
              "</style>\n",
              "<table border=\"1\" class=\"dataframe\">\n",
              "  <thead>\n",
              "    <tr style=\"text-align: right;\">\n",
              "      <th></th>\n",
              "      <th>id</th>\n",
              "      <th>description</th>\n",
              "    </tr>\n",
              "  </thead>\n",
              "  <tbody>\n",
              "    <tr>\n",
              "      <th>0</th>\n",
              "      <td>1516</td>\n",
              "      <td>&lt;li&gt;Building decision-making models and propos...</td>\n",
              "    </tr>\n",
              "    <tr>\n",
              "      <th>1</th>\n",
              "      <td>1517</td>\n",
              "      <td>&lt;li&gt;Educate homeowners on the benefits of sola...</td>\n",
              "    </tr>\n",
              "    <tr>\n",
              "      <th>2</th>\n",
              "      <td>1518</td>\n",
              "      <td>&lt;li&gt;&lt;span&gt;Design, develop, document, and imple...</td>\n",
              "    </tr>\n",
              "    <tr>\n",
              "      <th>3</th>\n",
              "      <td>1519</td>\n",
              "      <td>&lt;li&gt;Apply advanced technical expertise and ski...</td>\n",
              "    </tr>\n",
              "    <tr>\n",
              "      <th>4</th>\n",
              "      <td>1520</td>\n",
              "      <td>&lt;li&gt;Project manage and deliver against our roa...</td>\n",
              "    </tr>\n",
              "  </tbody>\n",
              "</table>\n",
              "</div>\n",
              "      <button class=\"colab-df-convert\" onclick=\"convertToInteractive('df-a54c562f-d70b-42d9-b63a-6cf8fa1d5321')\"\n",
              "              title=\"Convert this dataframe to an interactive table.\"\n",
              "              style=\"display:none;\">\n",
              "        \n",
              "  <svg xmlns=\"http://www.w3.org/2000/svg\" height=\"24px\"viewBox=\"0 0 24 24\"\n",
              "       width=\"24px\">\n",
              "    <path d=\"M0 0h24v24H0V0z\" fill=\"none\"/>\n",
              "    <path d=\"M18.56 5.44l.94 2.06.94-2.06 2.06-.94-2.06-.94-.94-2.06-.94 2.06-2.06.94zm-11 1L8.5 8.5l.94-2.06 2.06-.94-2.06-.94L8.5 2.5l-.94 2.06-2.06.94zm10 10l.94 2.06.94-2.06 2.06-.94-2.06-.94-.94-2.06-.94 2.06-2.06.94z\"/><path d=\"M17.41 7.96l-1.37-1.37c-.4-.4-.92-.59-1.43-.59-.52 0-1.04.2-1.43.59L10.3 9.45l-7.72 7.72c-.78.78-.78 2.05 0 2.83L4 21.41c.39.39.9.59 1.41.59.51 0 1.02-.2 1.41-.59l7.78-7.78 2.81-2.81c.8-.78.8-2.07 0-2.86zM5.41 20L4 18.59l7.72-7.72 1.47 1.35L5.41 20z\"/>\n",
              "  </svg>\n",
              "      </button>\n",
              "      \n",
              "  <style>\n",
              "    .colab-df-container {\n",
              "      display:flex;\n",
              "      flex-wrap:wrap;\n",
              "      gap: 12px;\n",
              "    }\n",
              "\n",
              "    .colab-df-convert {\n",
              "      background-color: #E8F0FE;\n",
              "      border: none;\n",
              "      border-radius: 50%;\n",
              "      cursor: pointer;\n",
              "      display: none;\n",
              "      fill: #1967D2;\n",
              "      height: 32px;\n",
              "      padding: 0 0 0 0;\n",
              "      width: 32px;\n",
              "    }\n",
              "\n",
              "    .colab-df-convert:hover {\n",
              "      background-color: #E2EBFA;\n",
              "      box-shadow: 0px 1px 2px rgba(60, 64, 67, 0.3), 0px 1px 3px 1px rgba(60, 64, 67, 0.15);\n",
              "      fill: #174EA6;\n",
              "    }\n",
              "\n",
              "    [theme=dark] .colab-df-convert {\n",
              "      background-color: #3B4455;\n",
              "      fill: #D2E3FC;\n",
              "    }\n",
              "\n",
              "    [theme=dark] .colab-df-convert:hover {\n",
              "      background-color: #434B5C;\n",
              "      box-shadow: 0px 1px 3px 1px rgba(0, 0, 0, 0.15);\n",
              "      filter: drop-shadow(0px 1px 2px rgba(0, 0, 0, 0.3));\n",
              "      fill: #FFFFFF;\n",
              "    }\n",
              "  </style>\n",
              "\n",
              "      <script>\n",
              "        const buttonEl =\n",
              "          document.querySelector('#df-a54c562f-d70b-42d9-b63a-6cf8fa1d5321 button.colab-df-convert');\n",
              "        buttonEl.style.display =\n",
              "          google.colab.kernel.accessAllowed ? 'block' : 'none';\n",
              "\n",
              "        async function convertToInteractive(key) {\n",
              "          const element = document.querySelector('#df-a54c562f-d70b-42d9-b63a-6cf8fa1d5321');\n",
              "          const dataTable =\n",
              "            await google.colab.kernel.invokeFunction('convertToInteractive',\n",
              "                                                     [key], {});\n",
              "          if (!dataTable) return;\n",
              "\n",
              "          const docLinkHtml = 'Like what you see? Visit the ' +\n",
              "            '<a target=\"_blank\" href=https://colab.research.google.com/notebooks/data_table.ipynb>data table notebook</a>'\n",
              "            + ' to learn more about interactive tables.';\n",
              "          element.innerHTML = '';\n",
              "          dataTable['output_type'] = 'display_data';\n",
              "          await google.colab.output.renderOutput(dataTable, element);\n",
              "          const docLink = document.createElement('div');\n",
              "          docLink.innerHTML = docLinkHtml;\n",
              "          element.appendChild(docLink);\n",
              "        }\n",
              "      </script>\n",
              "    </div>\n",
              "  </div>\n",
              "  "
            ]
          },
          "metadata": {},
          "execution_count": 6
        }
      ],
      "source": [
        "#評価用データの中身を確認\n",
        "test.head()"
      ]
    },
    {
      "cell_type": "markdown",
      "metadata": {
        "id": "K9eYmYX4WBTS"
      },
      "source": [
        "次に学習用データに含まれる, 職業ラベル（jobflag）のデータ数を確認してみます"
      ]
    },
    {
      "cell_type": "code",
      "execution_count": null,
      "metadata": {
        "colab": {
          "base_uri": "https://localhost:8080/",
          "height": 366
        },
        "id": "FsQSlW5rWBTS",
        "outputId": "af0a9924-3eb5-452c-a401-ec15f6275b98"
      },
      "outputs": [
        {
          "output_type": "stream",
          "name": "stdout",
          "text": [
            "4    505\n",
            "1    468\n",
            "3    455\n",
            "2     88\n",
            "Name: jobflag, dtype: int64\n"
          ]
        },
        {
          "output_type": "execute_result",
          "data": {
            "text/plain": [
              "<matplotlib.axes._subplots.AxesSubplot at 0x7f03546ddad0>"
            ]
          },
          "metadata": {},
          "execution_count": 7
        },
        {
          "output_type": "display_data",
          "data": {
            "text/plain": [
              "<Figure size 432x288 with 1 Axes>"
            ],
            "image/png": "[encoded data removed]"
          },
          "metadata": {
            "needs_background": "light"
          }
        }
      ],
      "source": [
        "#学習用データに含まれるjobflagをカウント（＋可視化）\n",
        "print(train['jobflag'].value_counts())\n",
        "train['jobflag'].value_counts().plot(kind = 'bar')"
      ]
    },
    {
      "cell_type": "markdown",
      "metadata": {
        "id": "uPXJrPRoWBTS"
      },
      "source": [
        "職種はConsultant(jobflag=4)が最も多く, Machiner learning engieer(jobflag=2)が最も少なくなっています.\n",
        "\n",
        "続いて, descriptionに含まれる文字の長さも確認してみましょう."
      ]
    },
    {
      "cell_type": "code",
      "execution_count": null,
      "metadata": {
        "id": "kqY6U07IWBTT"
      },
      "outputs": [],
      "source": [
        "#学習用データ, 評価用データのdescriptionに含まれる文字数を確認\n",
        "train_length = train['description'].str.len()\n",
        "test_length = test['description'].str.len()"
      ]
    },
    {
      "cell_type": "code",
      "execution_count": null,
      "metadata": {
        "colab": {
          "base_uri": "https://localhost:8080/",
          "height": 354
        },
        "id": "8XRnt3PfWBTT",
        "outputId": "bcb91d92-8dca-44e1-900c-69d2f2bc42d2"
      },
      "outputs": [
        {
          "output_type": "stream",
          "name": "stderr",
          "text": [
            "/usr/local/lib/python3.7/dist-packages/matplotlib/cbook/__init__.py:1376: VisibleDeprecationWarning: Creating an ndarray from ragged nested sequences (which is a list-or-tuple of lists-or-tuples-or ndarrays with different lengths or shapes) is deprecated. If you meant to do this, you must specify 'dtype=object' when creating the ndarray.\n",
            "  X = np.atleast_1d(X.T if isinstance(X, np.ndarray) else np.asarray(X))\n",
            "/usr/local/lib/python3.7/dist-packages/numpy/core/fromnumeric.py:1970: VisibleDeprecationWarning: Creating an ndarray from ragged nested sequences (which is a list-or-tuple of lists-or-tuples-or ndarrays with different lengths or shapes) is deprecated. If you meant to do this, you must specify 'dtype=object' when creating the ndarray.\n",
            "  result = asarray(a).shape\n"
          ]
        },
        {
          "output_type": "display_data",
          "data": {
            "text/plain": [
              "<Figure size 432x288 with 1 Axes>"
            ],
            "image/png": "[encoded data removed]"
          },
          "metadata": {
            "needs_background": "light"
          }
        }
      ],
      "source": [
        "#可視化\n",
        "fig = plt.figure()\n",
        "ax = fig.add_subplot(1, 1, 1)\n",
        "ax.violinplot([train_length, test_length])\n",
        "ax.set_xticks([1, 2])\n",
        "ax.set_xticklabels(['train', 'test'])\n",
        "ax.set_ylabel('word count')\n",
        "plt.show()"
      ]
    },
    {
      "cell_type": "markdown",
      "metadata": {
        "id": "ASopBZLqWBTU"
      },
      "source": [
        "descriptionの文字数は, 数十文字から数千字までとばらつきがありますが, 概ね500文字前後の文字数が多くなっています.\n",
        "学習用データの職業ラベル(jobflag)ごとの文字数も合わせて確認してみましょう."
      ]
    },
    {
      "cell_type": "code",
      "execution_count": null,
      "metadata": {
        "colab": {
          "base_uri": "https://localhost:8080/",
          "height": 217
        },
        "id": "WyrahpIUWBTU",
        "outputId": "e4980123-2ede-4260-ab4d-cc3ec2553e36"
      },
      "outputs": [
        {
          "output_type": "display_data",
          "data": {
            "text/plain": [
              "<Figure size 1080x288 with 4 Axes>"
            ],
            "image/png": "[encoded data removed]"
          },
          "metadata": {
            "needs_background": "light"
          }
        }
      ],
      "source": [
        "#学習用データの職業ラベル(jobflag)ごとの文字数を確認\n",
        "fig = plt.figure(figsize = (15, 4))\n",
        "for flag in [1, 2, 3, 4]:\n",
        "    train_length_flag = train[train['jobflag'] == flag]['description'].str.len()\n",
        "    ax = fig.add_subplot(1, 4, flag)\n",
        "    ax.violinplot(train_length_flag)\n",
        "    ax.set_xticks([1])\n",
        "    ax.set_xticklabels([flag])\n",
        "    ax.set_ylabel('word count')\n",
        "plt.tight_layout()\n",
        "plt.show()"
      ]
    },
    {
      "cell_type": "markdown",
      "metadata": {
        "id": "7YBQ2oMAWBTV"
      },
      "source": [
        "#### 前処理"
      ]
    },
    {
      "cell_type": "markdown",
      "metadata": {
        "id": "SvCQYvArWBTV"
      },
      "source": [
        "続いてデータの前処理（クリーニング）を行います.\n",
        "ここでは, 不要文字（アルファベット以外の文字）や3文字以下の単語の除去, およびステミング（単語の語幹を取り出す作業のこと. 派生語を同じ単語として扱えるようにする）を行います.\n",
        "学習用データと評価用データのdescriptionを一括処理するため, 一度データを結合した上でクリーニングを行っていきます."
      ]
    },
    {
      "cell_type": "code",
      "execution_count": null,
      "metadata": {
        "id": "OoEcqz5EWBTV"
      },
      "outputs": [],
      "source": [
        "#学習用データと評価用データを結合する (両データに対し一括で前処理を行うため)\n",
        "combined = train.append(test, ignore_index=True)"
      ]
    },
    {
      "cell_type": "code",
      "execution_count": null,
      "metadata": {
        "id": "NrhFK97VWBTV"
      },
      "outputs": [],
      "source": [
        "#以下の手順でdescriptionデータのクリーニングを行う.\n",
        "# <li>などのhtmlタグを削除する\n",
        "# アルファベット以外の文字をスペースに置き換える\n",
        "# 単語長が3文字以下のものは削除する\n",
        "# ステミング（単語の語幹を取り出す作業のこと. 派生語を同じ単語として扱えるようにする）\n",
        "\n",
        "import re\n",
        "from nltk.stem.porter import PorterStemmer\n",
        "stemmer = PorterStemmer()\n",
        "\n",
        "def cleaning(texts):\n",
        "    clean_texts = []\n",
        "    for text in texts:\n",
        "        # htmlタグを削除\n",
        "        text = remove_tag(text)\n",
        "        #アルファベット以外をスペースに置き換え\n",
        "        clean_punc = re.sub(r'[^a-zA-Z]', ' ', text)\n",
        "        #単語長が3文字以下のものは削除する\n",
        "        clean_short_tokenized = [word for word in clean_punc.split() if len(word) > 3]\n",
        "        #ステミング\n",
        "        clean_normalize = [stemmer.stem(word) for word in clean_short_tokenized]\n",
        "        #単語同士をスペースでつなぎ, 文章に戻す\n",
        "        clean_text = ' '.join(clean_normalize)\n",
        "        clean_texts.append(clean_text)\n",
        "    return clean_texts\n",
        "\n",
        "def remove_tag(x):\n",
        "    p = re.compile(r\"<[^>]*?>\")\n",
        "    return p.sub('',x)\n",
        "\n",
        "combined_cleaned = combined.copy()\n",
        "combined_cleaned['description'] = cleaning(combined['description'])"
      ]
    },
    {
      "cell_type": "code",
      "execution_count": null,
      "metadata": {
        "colab": {
          "base_uri": "https://localhost:8080/"
        },
        "id": "tzQgiY9GWBTW",
        "outputId": "eddac73d-4d2b-42a7-c269-00b0827169f4"
      },
      "outputs": [
        {
          "output_type": "stream",
          "name": "stdout",
          "text": [
            "#original\n",
            " <li>Develop cutting-edge web applications that perform superbly across all platforms.</li><li>Work in a highly collaborative environment with cross-functional teams on projects ranging from a few weeks to a few months in length.</li><li>Maintain high standard of quality as you creatively and strategically problem solve throughout the product delivery process.</li><li>Be able to effectively communicate your work with both technical and non-technical peers</li><li>Be excited about new web technologies/techniques</li><li>Build solid front-end architectures that integrate easily with other systems and technologies</li><li>Working closely with other disciplines (Back-end, UX, Design, QA)</li><li>Have a superior attention to detail and a strong ability to Q/A one\\'s own work required, including cross-browser and cross-platform displays and performance</li></ul>\n",
            "-----\n",
            "#cleaned\n",
            " develop cut edg applic that perform superbl across platform work highli collabor environ with cross function team project rang from week month length maintain high standard qualiti creativ strateg problem solv throughout product deliveri process abl effect commun your work with both technic technic peersb excit about technolog techniquesbuild solid front architectur that integr easili with other system technologieswork close with other disciplin back design have superior attent detail strong abil work requir includ cross browser cross platform display perform\n"
          ]
        }
      ],
      "source": [
        "# クリーニング結果の確認\n",
        "print('#original\\n', combined['description'][0])\n",
        "print(\"-----\")\n",
        "print('#cleaned\\n', combined_cleaned['description'][0])"
      ]
    },
    {
      "cell_type": "markdown",
      "metadata": {
        "id": "biPCqteAWBTW"
      },
      "source": [
        "タグや文字長3文字以下の単語が除去され, 単語の語幹が抽出されていることが分かります.\n",
        "次に, このクリーニング済みのデータに対して, Bag of Words (文章中の単語の登場回数をカウントし, 特徴量化する手法)を適用して, descriptionをベクトル化します."
      ]
    },
    {
      "cell_type": "code",
      "execution_count": null,
      "metadata": {
        "colab": {
          "base_uri": "https://localhost:8080/"
        },
        "id": "1k5uK1g1WBTW",
        "outputId": "625e3ed8-7c9e-46e4-a70f-036c723be70d"
      },
      "outputs": [
        {
          "output_type": "stream",
          "name": "stdout",
          "text": [
            "(3033, 2000)\n"
          ]
        }
      ],
      "source": [
        "#bag of words(文章中の単語の登場回数をカウントし, 特徴量化する手法)を用いて、descriptionをベクトル化する\n",
        "\n",
        "from sklearn.feature_extraction.text import CountVectorizer\n",
        "\n",
        "bow_vectorizer = CountVectorizer(max_df=0.90, min_df=2, max_features=2000, stop_words='english')\n",
        "bow = bow_vectorizer.fit_transform(combined_cleaned['description'])\n",
        "print(bow.shape)"
      ]
    },
    {
      "cell_type": "markdown",
      "metadata": {
        "id": "gcul9aqrWBTX"
      },
      "source": [
        "#### モデリング"
      ]
    },
    {
      "cell_type": "markdown",
      "metadata": {
        "id": "_dYq5wWBWBTX"
      },
      "source": [
        "今回は, 勾配ブースティング決定木のアルゴリズムの1つで, オープンソースのライブラリが公開されているXGBoostを用いてモデリングを行います.\n",
        "投稿前の精度検証では, ホールドアウト法を用いて学習用データの70%をモデルの学習に、残り30%を精度検証用に使いたいと思います."
      ]
    },
    {
      "cell_type": "code",
      "execution_count": null,
      "metadata": {
        "id": "6Ib7JVGYWBTX"
      },
      "outputs": [],
      "source": [
        "#学習用データを分割して, 投稿前の精度検証を行う\n",
        "\n",
        "from sklearn.model_selection import train_test_split\n",
        "\n",
        "delimit_num = train.shape[0]\n",
        "train_bow = bow[:delimit_num, :]\n",
        "test_bow = bow[delimit_num:, :]\n",
        "\n",
        "x_bow_train, x_bow_valid, y_bow_train, y_bow_valid = train_test_split(train_bow, train['jobflag'], test_size=0.3, random_state=0)"
      ]
    },
    {
      "cell_type": "code",
      "execution_count": null,
      "metadata": {
        "id": "rr-XLHmEWBTX"
      },
      "outputs": [],
      "source": [
        "#XGBを用いて分類器を作成し、学習・予測を行う\n",
        "\n",
        "from xgboost import XGBClassifier\n",
        "\n",
        "mod = XGBClassifier(max_depth=6, n_estimators=1000, n_jobs=-1)\n",
        "mod.fit(x_bow_train, y_bow_train)\n",
        "pred = mod.predict(x_bow_valid)\n"
      ]
    },
    {
      "cell_type": "markdown",
      "metadata": {
        "id": "ZSAPYM7oWBTY"
      },
      "source": [
        "#### 予測結果の可視化"
      ]
    },
    {
      "cell_type": "code",
      "execution_count": null,
      "metadata": {
        "colab": {
          "base_uri": "https://localhost:8080/",
          "height": 793
        },
        "id": "0yXYaaoRWBTY",
        "outputId": "7759f765-9dca-4883-a303-dcad05f19508"
      },
      "outputs": [
        {
          "output_type": "stream",
          "name": "stdout",
          "text": [
            "              precision    recall  f1-score   support\n",
            "\n",
            "           1      0.592     0.679     0.633       137\n",
            "           2      0.429     0.136     0.207        22\n",
            "           3      0.806     0.719     0.760       139\n",
            "           4      0.701     0.745     0.722       157\n",
            "\n",
            "    accuracy                          0.688       455\n",
            "   macro avg      0.632     0.570     0.581       455\n",
            "weighted avg      0.687     0.688     0.682       455\n",
            "\n"
          ]
        },
        {
          "output_type": "display_data",
          "data": {
            "text/plain": [
              "<Figure size 600x600 with 2 Axes>"
            ],
            "image/png": "[encoded data removed]"
          },
          "metadata": {
            "needs_background": "light"
          }
        }
      ],
      "source": [
        "from sklearn.metrics import confusion_matrix, classification_report\n",
        "labels = [1, 2, 3, 4]\n",
        "re_labels = [\"DS\", \"ML\", \"SE\", \"Cons\"]\n",
        "\n",
        "#混同行列の作成\n",
        "conf_mx = confusion_matrix(y_bow_valid, pred, labels=labels)\n",
        "conf_df = pd.DataFrame(data=conf_mx, index=[x + \"(act)\" for x in re_labels], columns=[x + \"(pred)\" for x in re_labels])\n",
        "\n",
        "#可視化\n",
        "plt.figure(figsize=(4, 4), dpi=150)\n",
        "sns.heatmap(conf_df, cmap='Blues', annot=True, fmt='d', annot_kws={\"size\": 12}).invert_yaxis()\n",
        "plt.tight_layout()\n",
        " \n",
        "print(classification_report(y_bow_valid, pred, labels=labels, digits=3))"
      ]
    },
    {
      "cell_type": "markdown",
      "metadata": {
        "id": "DMeITSBcWBTY"
      },
      "source": [
        "予測結果を見ると、\n",
        "・「Software engineer (jobflag=3)」は比較的上手く判別ができている\n",
        "・「Machine learning engieer(jobflag=2)」は、「Data Scientist (jobflag=1)」と誤判定しているケースが多い\n",
        "\n",
        "今回は, 古典的な手法(BoW)を用いて特徴量生成⇒モデル学習を行いましたが,\n",
        "これらの誤判定を抑制しさらに精度を改善するために,\n",
        "TF-IDFやWord2Vecといった特徴量生成, あるいはBERT（Bidirectional Encoder Representations from Transformers)といった最新の自然言語処理モデルに挑戦するのも良いでしょう."
      ]
    },
    {
      "cell_type": "markdown",
      "metadata": {
        "id": "cbcyGEfeWBTY"
      },
      "source": [
        "#### 投稿用ファイルの作成"
      ]
    },
    {
      "cell_type": "markdown",
      "metadata": {
        "id": "_rPetIcYWBTZ"
      },
      "source": [
        "改めて学習用データ(train)全体を使って学習し, 評価用データ(test)に対して予測を行います."
      ]
    },
    {
      "cell_type": "code",
      "execution_count": null,
      "metadata": {
        "id": "H4S06j8-WBTZ"
      },
      "outputs": [],
      "source": [
        "mod.fit(train_bow, train['jobflag'])\n",
        "pred_sub = mod.predict(test_bow)"
      ]
    },
    {
      "cell_type": "markdown",
      "metadata": {
        "id": "n80lZLPgWBTZ"
      },
      "source": [
        "コンペ投稿用のファイルは, id列とjobflag列(予測結果)の2列で, ヘッダなしの形で作成します."
      ]
    },
    {
      "cell_type": "code",
      "execution_count": null,
      "metadata": {
        "id": "nCUe0JtHWBTZ"
      },
      "outputs": [],
      "source": [
        "sample_submit_df = pd.DataFrame([test['id'], pred_sub]).T\n",
        "sample_submit_df.to_csv('./sample.csv', header=None, index=None)"
      ]
    },
    {
      "cell_type": "markdown",
      "metadata": {
        "id": "hE_IOS06WBTZ"
      },
      "source": [
        "#### まとめ"
      ]
    },
    {
      "cell_type": "markdown",
      "metadata": {
        "id": "tLh7l27ZWBTa"
      },
      "source": [
        "本チュートリアルでは, Bag of Wordsによる特徴抽出⇒モデル学習という古典的な手法でモデリングを試してきました.\n",
        "一部の職種（Software Engineer）では今回の手法でも比較的上手く判別ができましたが, Machine learning engineerをはまだ誤判定が多くなっています.\n",
        "さらなるスコア改善に向けて, 判別が難しい職種固有の特徴量の探索やより最新のモデリング手法など, 様々な改善策を試して学生チャンピオンを目指して下さい！！"
      ]
    },
    {
      "cell_type": "markdown",
      "metadata": {
        "id": "q3oee_FSWBTa"
      },
      "source": [
        "おわり"
      ]
    }
  ],
  "metadata": {
    "kernelspec": {
      "display_name": "Python 3.9.7 64-bit",
      "language": "python",
      "name": "python3"
    },
    "language_info": {
      "codemirror_mode": {
        "name": "ipython",
        "version": 3
      },
      "file_extension": ".py",
      "mimetype": "text/x-python",
      "name": "python",
      "nbconvert_exporter": "python",
      "pygments_lexer": "ipython3",
      "version": "3.9.7"
    },
    "orig_nbformat": 4,
    "vscode": {
      "interpreter": {
        "hash": "aee8b7b246df8f9039afb4144a1f6fd8d2ca17a180786b69acc140d282b71a49"
      }
    },
    "colab": {
      "name": "tutorial.ipynb",
      "provenance": []
    }
  },
  "nbformat": 4,
  "nbformat_minor": 0
}